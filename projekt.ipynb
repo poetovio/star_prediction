{
 "cells": [
  {
   "cell_type": "markdown",
   "metadata": {},
   "source": [
    "# Klasifikacija zvezd -> projekt pri predmetu Tehnologije znanja"
   ]
  },
  {
   "cell_type": "markdown",
   "metadata": {},
   "source": [
    "Spektralna razvrstitev zvezd je v astronomiji razvrstitev zvezd po njihovih spektralnih značilnostih (med njimi spadajo: \n",
    "-> fotosferska temperatura\n",
    "-> črte elementov, ki jih absorbirajo\n",
    "-> ...\n",
    ").\n",
    "Posledično so zvezde razdeljene še v podrazrede.\n",
    "\n",
    "Elektromagnetno sevanje analiziramo tako, da ga s prizmo ali uklonsko mrežico razdelimo v spekter, ki prikazuje mavrico barv, prepredeno s spektralnimi črtami.\n",
    "~> Vsaka črta označuje določen kemijski element oz. molekulo, pri čemer moč črte označuje številčnost tega elementa.\n",
    "Moči različnih spektralnih linij se razlikujejo predvsem zaradi temperature fotosfere, pri čemer "
   ]
  },
  {
   "cell_type": "markdown",
   "metadata": {},
   "source": []
  },
  {
   "cell_type": "markdown",
   "metadata": {},
   "source": [
    "## Importanje knjižnic ter osnovne datoteke"
   ]
  },
  {
   "cell_type": "code",
   "execution_count": 1,
   "metadata": {},
   "outputs": [],
   "source": [
    "import numpy as np\n",
    "import pandas as pd\n"
   ]
  },
  {
   "cell_type": "code",
   "execution_count": null,
   "metadata": {},
   "outputs": [],
   "source": [
    "df = pd.read_csv()"
   ]
  }
 ],
 "metadata": {
  "kernelspec": {
   "display_name": "Python 3 (ipykernel)",
   "language": "python",
   "name": "python3"
  },
  "language_info": {
   "codemirror_mode": {
    "name": "ipython",
    "version": 3
   },
   "file_extension": ".py",
   "mimetype": "text/x-python",
   "name": "python",
   "nbconvert_exporter": "python",
   "pygments_lexer": "ipython3",
   "version": "3.9.12"
  },
  "vscode": {
   "interpreter": {
    "hash": "369f2c481f4da34e4445cda3fffd2e751bd1c4d706f27375911949ba6bb62e1c"
   }
  }
 },
 "nbformat": 4,
 "nbformat_minor": 2
}
